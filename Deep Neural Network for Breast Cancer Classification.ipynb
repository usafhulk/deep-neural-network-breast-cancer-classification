{
 "cells": [
  {
   "cell_type": "markdown",
   "id": "f3148f03",
   "metadata": {},
   "source": [
    "**Table of contents**<a id='toc0_'></a>    \n",
    "- [Deep Neural Network for Breast Cancer Classification](#toc1_)    \n",
    "  - [Objectives](#toc1_1_)    \n",
    "  - [Background](#toc1_2_)    \n",
    "    - [What is PyTorch](#toc1_2_1_)    \n",
    "  - [Setup](#toc1_3_)    \n",
    "    - [Installing Required Libraries](#toc1_3_1_)    \n",
    "  - [Load the Data](#toc1_4_)    \n",
    "    - [Breast Cancer Wisconsin (Diagnostic)](#toc1_4_1_)    \n",
    "  - [Data Preprocessing](#toc1_5_)    \n",
    "  - [Build and Train the Neural Network Model](#toc1_6_)    \n",
    "  - [Visualize the Training and Test Loss](#toc1_7_)    \n",
    "  - [Exercises](#toc1_8_)    \n",
    "    - [Exercise 1 - Change to different optimizer: SGD](#toc1_8_1_)    \n",
    "    - [Exercise 2 - Change the number of neurons](#toc1_8_2_)    \n",
    "    - [Exercise 3 - Try different dataset - Iris Dataset](#toc1_8_3_)    \n",
    "  - [Authors: Christopher Banner](#toc1_9_)    \n",
    "  - [Contributors](#toc1_10_)    \n"
   ]
  },
  {
   "cell_type": "markdown",
   "id": "df1cc248",
   "metadata": {},
   "source": []
  }
 ],
 "metadata": {
  "language_info": {
   "name": "python"
  }
 },
 "nbformat": 4,
 "nbformat_minor": 5
}
